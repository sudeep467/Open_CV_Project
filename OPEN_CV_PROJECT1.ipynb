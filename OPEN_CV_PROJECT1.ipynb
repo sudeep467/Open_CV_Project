{
 "cells": [
  {
   "cell_type": "code",
   "execution_count": 39,
   "id": "2ecfc132",
   "metadata": {},
   "outputs": [
    {
     "name": "stdout",
     "output_type": "stream",
     "text": [
      "4.5.5\n"
     ]
    }
   ],
   "source": [
    "import cv2\n",
    "print(cv2.__version__)"
   ]
  },
  {
   "cell_type": "code",
   "execution_count": 40,
   "id": "9439264d",
   "metadata": {},
   "outputs": [
    {
     "name": "stdout",
     "output_type": "stream",
     "text": [
      "[[159 159 159 ... 166 156 148]\n",
      " [159 159 159 ... 168 156 148]\n",
      " [159 159 159 ... 167 154 145]\n",
      " ...\n",
      " [ 52  52  52 ... 104 107 109]\n",
      " [ 52  52  52 ... 107 110 112]\n",
      " [ 52  52  52 ... 109 112 114]]\n"
     ]
    }
   ],
   "source": [
    "#read the image using imread method\n",
    "import cv2\n",
    "img=cv2.imread('lena5.jpg',0)\n",
    "print(img)"
   ]
  },
  {
   "cell_type": "code",
   "execution_count": 42,
   "id": "9d96667d",
   "metadata": {},
   "outputs": [],
   "source": [
    "#display the image using imshow method\n",
    "cv2.imshow('image',img)\n",
    "k=cv2.waitKey(0)\n",
    "if k==27:\n",
    "    cv2.destroyAllWindows()\n",
    "elif k==ord('s'):\n",
    "    cv2.imwrite('lena5_copy.png',img)\n",
    "    cv2.destroyAllWindows()\n",
    "    "
   ]
  },
  {
   "cell_type": "code",
   "execution_count": 38,
   "id": "7ad93a4c",
   "metadata": {},
   "outputs": [
    {
     "data": {
      "text/plain": [
       "True"
      ]
     },
     "execution_count": 38,
     "metadata": {},
     "output_type": "execute_result"
    }
   ],
   "source": [
    "cv2.imwrite('lena5_copy.png',img)"
   ]
  },
  {
   "cell_type": "markdown",
   "id": "58c68f25",
   "metadata": {},
   "source": [
    "# CAPTURE THE LIVE STREAM FROM CAMERA"
   ]
  },
  {
   "cell_type": "code",
   "execution_count": 2,
   "id": "6538c27b",
   "metadata": {},
   "outputs": [
    {
     "name": "stdout",
     "output_type": "stream",
     "text": [
      "True\n",
      "640.0\n",
      "480.0\n"
     ]
    }
   ],
   "source": [
    "import  cv2\n",
    "cap = cv2.VideoCapture(0)\n",
    "fourcc = cv2.VideoWriter_fourcc(*'XVID')\n",
    "out = cv2.VideoWriter('output.avi',fourcc,20.0,(680,480))\n",
    "print(cap.isOpened())\n",
    "while(cap.isOpened()):\n",
    "    ret, frame=cap.read()\n",
    "    if ret == True:\n",
    "        print(cap.get(cv2.CAP_PROP_FRAME_WIDTH))\n",
    "        print(cap.get(cv2.CAP_PROP_FRAME_HEIGHT))\n",
    "        out.write(frame)\n",
    "        gray = cv2.cvtColor(frame,cv2.COLOR_BGR2GRAY)\n",
    "        cv2.imshow('frame',gray)\n",
    "        if cv2.waitKey(1) & 0xFF == ord('q'):\n",
    "            break\n",
    "        else:\n",
    "            break\n",
    "cap.release()\n",
    "out.release()\n",
    "cv2.destroyAllWindows()"
   ]
  },
  {
   "cell_type": "code",
   "execution_count": 18,
   "id": "6aed22e1",
   "metadata": {},
   "outputs": [],
   "source": [
    "#Draw the Geometric shapes in the images\n",
    "import numpy as np\n",
    "import cv2\n",
    "img=cv2.imread('lena5.jpg',1)\n",
    "img = cv2.line(img, (0,0),(255,255),(0,255,0),10)\n",
    "img = cv2.arrowedLine(img,(0,255),(255,255),(255,0,0),10)\n",
    "img = cv2.rectangle(img,(380,0),(510,128),(0,0,255),10) # if wwe give -1 fully covered the color\n",
    "img = cv2.circle(img,(447,63),63,(0,255,0),-1)\n",
    "font = cv2.FONT_HERSHEY_SIMPLEX\n",
    "img = cv2.putText(img,'OpenCV',(10,500),font,4,(255,255,255),10,cv2.LINE_AA)\n",
    "cv2.imshow('image',img)\n",
    "cv2.waitKey(0)\n",
    "cv2.destroyAllWindows()"
   ]
  },
  {
   "cell_type": "code",
   "execution_count": 19,
   "id": "37bb916b",
   "metadata": {},
   "outputs": [
    {
     "name": "stdout",
     "output_type": "stream",
     "text": [
      "python2python2\n"
     ]
    }
   ],
   "source": [
    "def fun_x(x):\n",
    "    x=x+'2'\n",
    "    x=x*2\n",
    "    return x\n",
    "print(fun_x('python'))"
   ]
  },
  {
   "cell_type": "code",
   "execution_count": 2,
   "id": "10c14bd7",
   "metadata": {},
   "outputs": [
    {
     "name": "stdout",
     "output_type": "stream",
     "text": [
      "640.0\n",
      "480.0\n",
      "960.0\n",
      "540.0\n"
     ]
    }
   ],
   "source": [
    "import cv2\n",
    "cap = cv2.VideoCapture(0)\n",
    "print(cap.get(cv2.CAP_PROP_FRAME_WIDTH))\n",
    "print(cap.get(cv2.CAP_PROP_FRAME_HEIGHT))\n",
    "cap.set(3,1208)\n",
    "cap.set(4,720)\n",
    "\n",
    "print(cap.get(3))\n",
    "print(cap.get(4))\n",
    "while(cap.isOpened()):\n",
    "    ret,frame = cap.read()\n",
    "    if ret == True:\n",
    "        gray = cv2.cvtColor(frame,cv2.COLOR_BGR2GRAY)\n",
    "        cv2.imshow('frame',gray)\n",
    "        if cv2.waitKey(0) & 0xFF == ord('q'):\n",
    "            break\n",
    "        else:\n",
    "            break\n",
    "cap.release()\n",
    "cv2.destroyAllWindows()"
   ]
  },
  {
   "cell_type": "code",
   "execution_count": 4,
   "id": "fedaf23d",
   "metadata": {},
   "outputs": [
    {
     "name": "stdout",
     "output_type": "stream",
     "text": [
      "640.0\n",
      "480.0\n",
      "960.0\n",
      "540.0\n"
     ]
    }
   ],
   "source": [
    "import cv2\n",
    "cap = cv2.VideoCapture(0)\n",
    "print(cap.get(cv2.CAP_PROP_FRAME_WIDTH))\n",
    "print(cap.get(cv2.CAP_PROP_FRAME_HEIGHT))\n",
    "cap.set(3,1208)\n",
    "cap.set(4,720)\n",
    "\n",
    "print(cap.get(3))\n",
    "print(cap.get(4))\n",
    "while(cap.isOpened()):\n",
    "    ret,frame = cap.read()\n",
    "    if ret == True:\n",
    "        font = cv2.FONT_HERSHEY_SIMPLEX\n",
    "        text = 'Width :'+ str(cap.get(3)) + ' Height:' + str(cap.get(4))\n",
    "        frame = cv2.putText(frame,text,(10,50),font,1,(0,255,255),2,cv2.LINE_AA)\n",
    "        cv2.imshow('frame',frame)\n",
    "        if cv2.waitKey(0) & 0xFF == ord('q'):\n",
    "            break\n",
    "        else:\n",
    "            break\n",
    "cap.release()\n",
    "cv2.destroyAllWindows()"
   ]
  },
  {
   "cell_type": "code",
   "execution_count": 5,
   "id": "ab1e2e2d",
   "metadata": {},
   "outputs": [
    {
     "name": "stdout",
     "output_type": "stream",
     "text": [
      "640.0\n",
      "480.0\n"
     ]
    }
   ],
   "source": [
    "#print the live date and time\n",
    "import cv2\n",
    "import datetime\n",
    "cap = cv2.VideoCapture(0)\n",
    "print(cap.get(cv2.CAP_PROP_FRAME_WIDTH))\n",
    "print(cap.get(cv2.CAP_PROP_FRAME_HEIGHT))\n",
    "#cap.set(3,1208)\n",
    "#cap.set(4,720)\n",
    "\n",
    "#print(cap.get(3))\n",
    "#print(cap.get(4))\n",
    "while(cap.isOpened()):\n",
    "    ret,frame = cap.read()\n",
    "    if ret == True:\n",
    "        font = cv2.FONT_HERSHEY_SIMPLEX\n",
    "        text = 'Width :'+ str(cap.get(3)) + ' Height:' + str(cap.get(4))\n",
    "        datet = str(datetime.datetime.now())\n",
    "        frame = cv2.putText(frame,datet,(10,50),font,1,(0,255,255),2,cv2.LINE_AA)\n",
    "        cv2.imshow('frame',frame)\n",
    "        if cv2.waitKey(0) & 0xFF == ord('q'):\n",
    "            break\n",
    "        else:\n",
    "            break\n",
    "cap.release()\n",
    "cv2.destroyAllWindows()"
   ]
  },
  {
   "cell_type": "markdown",
   "id": "5f09950b",
   "metadata": {},
   "source": [
    "# HOW TO HANDLE THE MOUSE EVENT"
   ]
  },
  {
   "cell_type": "code",
   "execution_count": 7,
   "id": "79f520cc",
   "metadata": {},
   "outputs": [
    {
     "name": "stdout",
     "output_type": "stream",
     "text": [
      "['EVENT_FLAG_ALTKEY', 'EVENT_FLAG_CTRLKEY', 'EVENT_FLAG_LBUTTON', 'EVENT_FLAG_MBUTTON', 'EVENT_FLAG_RBUTTON', 'EVENT_FLAG_SHIFTKEY', 'EVENT_LBUTTONDBLCLK', 'EVENT_LBUTTONDOWN', 'EVENT_LBUTTONUP', 'EVENT_MBUTTONDBLCLK', 'EVENT_MBUTTONDOWN', 'EVENT_MBUTTONUP', 'EVENT_MOUSEHWHEEL', 'EVENT_MOUSEMOVE', 'EVENT_MOUSEWHEEL', 'EVENT_RBUTTONDBLCLK', 'EVENT_RBUTTONDOWN', 'EVENT_RBUTTONUP']\n"
     ]
    }
   ],
   "source": [
    "import numpy as np\n",
    "import cv2\n",
    "\n",
    "events = [i for i in dir(cv2) if 'EVENT' in i]\n",
    "print(events)"
   ]
  },
  {
   "cell_type": "code",
   "execution_count": 2,
   "id": "6caea503",
   "metadata": {},
   "outputs": [
    {
     "name": "stdout",
     "output_type": "stream",
     "text": [
      "378  , 305\n",
      "236  , 151\n",
      "197  , 185\n",
      "182  , 370\n"
     ]
    }
   ],
   "source": [
    "import numpy as np\n",
    "import cv2\n",
    "\n",
    "def click_event(event,x,y,flags,param):\n",
    "    if event == cv2.EVENT_LBUTTONDOWN:\n",
    "        print(x,' ,' ,y)\n",
    "        font = cv2.FONT_HERSHEY_SIMPLEX\n",
    "        strXY = str(x) + ' ,' +str(y)\n",
    "        cv2.putText(img,strXY,(x,y),font,1,(255,255,0),2)\n",
    "        cv2.imshow('image',img)\n",
    "    if event == cv2.EVENT_RBUTTONDOWN:\n",
    "        blue = img[y,x,0]\n",
    "        green = img[y,x,1]\n",
    "        red = img[y,x,2]\n",
    "        font = cv2.FONT_HERSHEY_SIMPLEX\n",
    "        strBGR = str(blue) + ' ,' +str(green) + ' ,' +str(red)\n",
    "        cv2.putText(img,strBGR,(x,y),font,1,(0,255,255),2)\n",
    "        cv2.imshow('image',img)\n",
    "img = np.zeros((512,512,3),np.uint8)\n",
    "cv2.imshow('image',img)\n",
    "\n",
    "cv2.setMouseCallback('image',click_event)\n",
    "cv2.waitKey(0)\n",
    "cv2.destroyAllWindows()"
   ]
  },
  {
   "cell_type": "code",
   "execution_count": 3,
   "id": "075d7cc8",
   "metadata": {},
   "outputs": [
    {
     "name": "stdout",
     "output_type": "stream",
     "text": [
      "157  , 82\n",
      "118  , 161\n",
      "84  , 247\n",
      "65  , 282\n"
     ]
    }
   ],
   "source": [
    "import numpy as np\n",
    "import cv2\n",
    "\n",
    "def click_event(event,x,y,flags,param):\n",
    "    if event == cv2.EVENT_LBUTTONDOWN:\n",
    "        print(x,' ,' ,y)\n",
    "        font = cv2.FONT_HERSHEY_SIMPLEX\n",
    "        strXY = str(x) + ' ,' +str(y)\n",
    "        cv2.putText(img,strXY,(x,y),font,1,(255,255,0),2)\n",
    "        cv2.imshow('image',img)\n",
    "    if event == cv2.EVENT_RBUTTONDOWN:\n",
    "        blue = img[y,x,0]\n",
    "        green = img[y,x,1]\n",
    "        red = img[y,x,2]\n",
    "        font = cv2.FONT_HERSHEY_SIMPLEX\n",
    "        strBGR = str(blue) + ' ,' +str(green) + ' ,' +str(red)\n",
    "        cv2.putText(img,strBGR,(x,y),font,1,(0,255,255),2)\n",
    "        cv2.imshow('image',img)\n",
    "#img = np.zeros((512,512,3),np.uint8)\n",
    "img = cv2.imread('lena5.jpg')\n",
    "cv2.imshow('image',img)\n",
    "\n",
    "cv2.setMouseCallback('image',click_event)\n",
    "cv2.waitKey(0)\n",
    "cv2.destroyAllWindows()"
   ]
  },
  {
   "cell_type": "code",
   "execution_count": 4,
   "id": "e7320fe2",
   "metadata": {},
   "outputs": [],
   "source": [
    "import numpy as np\n",
    "import cv2\n",
    "\n",
    "def click_event(event,x,y,flags,param):\n",
    "    if event == cv2.EVENT_LBUTTONDOWN:\n",
    "        cv2.circle(img,(x,y),3,(0,0,255),-1)\n",
    "        points.append((x,y))\n",
    "        if len(points)>=2:\n",
    "            cv2.line(img,points[-1],points[-2],(255,0,0),5)\n",
    "        \n",
    "        \n",
    "        cv2.imshow('image',img)\n",
    "img = np.zeros((512,512,3),np.uint8)\n",
    "#img = cv2.imread('lena5.jpg')\n",
    "cv2.imshow('image',img)\n",
    "points = []\n",
    "cv2.setMouseCallback('image',click_event)\n",
    "cv2.waitKey(0)\n",
    "cv2.destroyAllWindows()"
   ]
  },
  {
   "cell_type": "code",
   "execution_count": 6,
   "id": "2c60d946",
   "metadata": {},
   "outputs": [],
   "source": [
    "import numpy as np\n",
    "import cv2\n",
    "\n",
    "def click_event(event,x,y,flags,param):\n",
    "    if event == cv2.EVENT_LBUTTONDOWN:\n",
    "        blue = img[x,y,0]\n",
    "        green = img[x,y,1]\n",
    "        red = img[x,y,2]\n",
    "        cv2.circle(img,(x,y),3,(0,0,255),-1)\n",
    "        mycolorimage = np.zeros((512,512,3),np.uint8)\n",
    "        mycolorimage[:] = [blue,green,red]\n",
    "        cv2.imshow('color',mycolorimage)\n",
    "#img = np.zeros((512,512,3),np.uint8)\n",
    "img = cv2.imread('lena5.jpg')\n",
    "cv2.imshow('image',img)\n",
    "points = []\n",
    "cv2.setMouseCallback('image',click_event)\n",
    "cv2.waitKey(0)\n",
    "cv2.destroyAllWindows()"
   ]
  },
  {
   "cell_type": "code",
   "execution_count": 8,
   "id": "d51d3fe5",
   "metadata": {},
   "outputs": [
    {
     "name": "stdout",
     "output_type": "stream",
     "text": [
      "(512, 512, 3)\n",
      "786432\n",
      "uint8\n"
     ]
    }
   ],
   "source": [
    "import numpy as np\n",
    "import cv2\n",
    "img = cv2.imread('lena5.jpg')\n",
    "\n",
    "print(img.shape)# it returns the number of rows coloumns and channel\n",
    "print(img.size) # it returns the image pixel\n",
    "print(img.dtype) # image datatype\n",
    "b,g,r=cv2.split(img)\n",
    "img = cv2.merge((b,g,r))\n",
    "\n",
    "cv2.imshow('image',img)\n",
    "cv2.waitKey(0)\n",
    "cv2.destroyAllWindows()"
   ]
  },
  {
   "cell_type": "code",
   "execution_count": 11,
   "id": "ba923ee0",
   "metadata": {},
   "outputs": [
    {
     "name": "stdout",
     "output_type": "stream",
     "text": [
      "(342, 548, 3)\n",
      "562248\n",
      "uint8\n"
     ]
    }
   ],
   "source": [
    "# ROI region of intrest of image\n",
    "import numpy as np\n",
    "import cv2\n",
    "img = cv2.imread('messi.jpg')\n",
    "\n",
    "print(img.shape)# it returns the number of rows coloumns and channel\n",
    "print(img.size) # it returns the image pixel\n",
    "print(img.dtype) # image datatype\n",
    "b,g,r=cv2.split(img)\n",
    "img = cv2.merge((b,g,r))\n",
    "hat = img[280:340,330:390]\n",
    "img[273:333,100:160] = hat\n",
    "cv2.imshow('image',img)\n",
    "cv2.waitKey(0)\n",
    "cv2.destroyAllWindows()"
   ]
  },
  {
   "cell_type": "code",
   "execution_count": 14,
   "id": "48e4f194",
   "metadata": {},
   "outputs": [
    {
     "name": "stdout",
     "output_type": "stream",
     "text": [
      "(342, 548, 3)\n",
      "562248\n",
      "uint8\n"
     ]
    }
   ],
   "source": [
    "# ROI region of intrest of image\n",
    "import numpy as np\n",
    "import cv2\n",
    "img = cv2.imread('messi.jpg')\n",
    "img2 = cv2.imread('lena5.jpg')\n",
    "\n",
    "\n",
    "print(img.shape)# it returns the number of rows coloumns and channel\n",
    "print(img.size) # it returns the image pixel\n",
    "print(img.dtype) # image datatype\n",
    "b,g,r=cv2.split(img)\n",
    "img = cv2.merge((b,g,r))\n",
    "hat = img[280:340,330:390]\n",
    "img[273:333,100:160] = hat\n",
    "img = cv2.resize(img,(512,512))\n",
    "img2 = cv2.resize(img2,(512,512))\n",
    "\n",
    "img3=cv2.add(img,img2)\n",
    "cv2.imshow('image',img3)\n",
    "cv2.waitKey(0)\n",
    "cv2.destroyAllWindows()"
   ]
  },
  {
   "cell_type": "code",
   "execution_count": 18,
   "id": "ba2cdb9f",
   "metadata": {},
   "outputs": [
    {
     "name": "stdout",
     "output_type": "stream",
     "text": [
      "(342, 548, 3)\n",
      "562248\n",
      "uint8\n"
     ]
    }
   ],
   "source": [
    "# ROI region of intrest of image\n",
    "import numpy as np\n",
    "import cv2\n",
    "img = cv2.imread('messi.jpg')\n",
    "img2 = cv2.imread('lena5.jpg')\n",
    "\n",
    "\n",
    "print(img.shape)# it returns the number of rows coloumns and channel\n",
    "print(img.size) # it returns the image pixel\n",
    "print(img.dtype) # image datatype\n",
    "b,g,r=cv2.split(img)\n",
    "img = cv2.merge((b,g,r))\n",
    "hat = img[280:340,330:390]\n",
    "img[273:333,100:160] = hat\n",
    "img = cv2.resize(img,(512,512))\n",
    "img2 = cv2.resize(img2,(512,512))\n",
    "\n",
    "img3=cv2.addWeighted(img,.5,img2,.5,0)\n",
    "cv2.imshow('image',img3)\n",
    "cv2.waitKey(0)\n",
    "cv2.destroyAllWindows()"
   ]
  },
  {
   "cell_type": "markdown",
   "id": "8294e445",
   "metadata": {},
   "source": [
    "# BITWISE OPERATION"
   ]
  },
  {
   "cell_type": "code",
   "execution_count": 23,
   "id": "51eecd3a",
   "metadata": {},
   "outputs": [],
   "source": [
    "import cv2\n",
    "import numpy as np\n",
    "img1 = np.zeros((250,500,3),np.uint8)\n",
    "img1 = cv2.rectangle(img1,(200,0),(300,100),(255,255,255),-1)\n",
    "img2 = np.zeros((250,500,3),np.uint8)\n",
    "\n",
    "bitAnd = cv2.bitwise_and(img2,img1)\n",
    "\n",
    "cv2.imshow('img1',img1)\n",
    "cv2.imshow('img2',img2)\n",
    "cv2.imshow('bitAnd',bitAnd)\n",
    "cv2.waitKey(0)\n",
    "cv2.destroyAllWindows()"
   ]
  },
  {
   "cell_type": "markdown",
   "id": "0efcac0b",
   "metadata": {},
   "source": [
    "# TRACKBAR IN OPEN CV"
   ]
  },
  {
   "cell_type": "code",
   "execution_count": 33,
   "id": "6c4bbffb",
   "metadata": {},
   "outputs": [
    {
     "ename": "error",
     "evalue": "OpenCV(4.5.5) D:\\a\\opencv-python\\opencv-python\\opencv\\modules\\highgui\\src\\window_w32.cpp:2581: error: (-27:Null pointer) NULL window: 'image' in function 'cvGetTrackbarPos'\n",
     "output_type": "error",
     "traceback": [
      "\u001b[1;31m---------------------------------------------------------------------------\u001b[0m",
      "\u001b[1;31merror\u001b[0m                                     Traceback (most recent call last)",
      "\u001b[1;32m<ipython-input-33-0d6fc7a60cb4>\u001b[0m in \u001b[0;36m<module>\u001b[1;34m\u001b[0m\n\u001b[0;32m     18\u001b[0m         \u001b[1;32mbreak\u001b[0m\u001b[1;33m\u001b[0m\u001b[1;33m\u001b[0m\u001b[0m\n\u001b[0;32m     19\u001b[0m \u001b[1;33m\u001b[0m\u001b[0m\n\u001b[1;32m---> 20\u001b[1;33m     \u001b[0mb\u001b[0m \u001b[1;33m=\u001b[0m \u001b[0mcv\u001b[0m\u001b[1;33m.\u001b[0m\u001b[0mgetTrackbarPos\u001b[0m\u001b[1;33m(\u001b[0m\u001b[1;34m'B'\u001b[0m\u001b[1;33m,\u001b[0m\u001b[1;34m'image'\u001b[0m\u001b[1;33m)\u001b[0m\u001b[1;33m\u001b[0m\u001b[1;33m\u001b[0m\u001b[0m\n\u001b[0m\u001b[0;32m     21\u001b[0m     \u001b[0mg\u001b[0m \u001b[1;33m=\u001b[0m \u001b[0mcv\u001b[0m\u001b[1;33m.\u001b[0m\u001b[0mgetTrackbarPos\u001b[0m\u001b[1;33m(\u001b[0m\u001b[1;34m'G'\u001b[0m\u001b[1;33m,\u001b[0m\u001b[1;34m'image'\u001b[0m\u001b[1;33m)\u001b[0m\u001b[1;33m\u001b[0m\u001b[1;33m\u001b[0m\u001b[0m\n\u001b[0;32m     22\u001b[0m     \u001b[0mr\u001b[0m \u001b[1;33m=\u001b[0m \u001b[0mcv\u001b[0m\u001b[1;33m.\u001b[0m\u001b[0mgetTrackbarPos\u001b[0m\u001b[1;33m(\u001b[0m\u001b[1;34m'R'\u001b[0m\u001b[1;33m,\u001b[0m\u001b[1;34m'image'\u001b[0m\u001b[1;33m)\u001b[0m\u001b[1;33m\u001b[0m\u001b[1;33m\u001b[0m\u001b[0m\n",
      "\u001b[1;31merror\u001b[0m: OpenCV(4.5.5) D:\\a\\opencv-python\\opencv-python\\opencv\\modules\\highgui\\src\\window_w32.cpp:2581: error: (-27:Null pointer) NULL window: 'image' in function 'cvGetTrackbarPos'\n"
     ]
    }
   ],
   "source": [
    "import numpy as np\n",
    "import cv2 as cv\n",
    "\n",
    "def nothing(x):\n",
    "    print(x)\n",
    "\n",
    "img = np.zeros((300,512,3),np.uint8)\n",
    "cv.namedWindow('image')\n",
    "cv.createTrackbar('B','image',0,255,nothing)\n",
    "cv.createTrackbar('G','image',0,255,nothing)\n",
    "cv.createTrackbar('R','image',0,255,nothing)\n",
    "\n",
    "\n",
    "while(1):\n",
    "    cv.imshow('image',img)\n",
    "    k = cv.waitKey(1) & 0xFF\n",
    "    if k==27:\n",
    "        break\n",
    "        \n",
    "    b = cv.getTrackbarPos('B','image')\n",
    "    g = cv.getTrackbarPos('G','image')\n",
    "    r = cv.getTrackbarPos('R','image')\n",
    "    img[:]=[b,g,r]\n",
    "    \n",
    "cv.destroyAllWindows()"
   ]
  },
  {
   "cell_type": "markdown",
   "id": "99ff6004",
   "metadata": {},
   "source": [
    "# HSV (Hue,Sturation and Value)"
   ]
  },
  {
   "cell_type": "code",
   "execution_count": 5,
   "id": "c50af749",
   "metadata": {},
   "outputs": [],
   "source": [
    "import cv2\n",
    "import numpy as np\n",
    "def nothing(x):\n",
    "    pass\n",
    "cv2.namedWindow(\"Tracking\")\n",
    "cv2.createTrackbar(\"LH\",\"Tracking\",0,255,nothing)\n",
    "cv2.createTrackbar(\"LS\",\"Tracking\",0,255,nothing)\n",
    "cv2.createTrackbar(\"LV\",\"Tracking\",0,255,nothing)\n",
    "cv2.createTrackbar(\"UH\",\"Tracking\",255,255,nothing)\n",
    "cv2.createTrackbar(\"US\",\"Tracking\",255,255,nothing)\n",
    "cv2.createTrackbar(\"UV\",\"Tracking\",255,255,nothing)\n",
    "while True:\n",
    "    frame = cv2.imread('smarties.png')\n",
    "    hsv = cv2.cvtColor(frame,cv2.COLOR_BGR2HSV)\n",
    "    l_h = cv2.getTrackbarPos(\"LH\",\"Tracking\")\n",
    "    l_s = cv2.getTrackbarPos(\"LS\",\"Tracking\")\n",
    "    l_v = cv2.getTrackbarPos(\"LV\",\"Tracking\")\n",
    "    \n",
    "    u_h = cv2.getTrackbarPos(\"UH\",\"Tracking\")\n",
    "    u_s = cv2.getTrackbarPos(\"US\",\"Tracking\")\n",
    "    u_v = cv2.getTrackbarPos(\"UV\",\"Tracking\")\n",
    "    \n",
    "    l_b = np.array([l_h,l_s,l_v])\n",
    "    u_b = np.array([u_h,u_s,u_v])\n",
    "    mask = cv2.inRange(hsv , l_b , u_b)\n",
    "    res = cv2.bitwise_and(frame,frame,mask=mask)\n",
    "    \n",
    "    cv2.imshow('frame',frame)\n",
    "    cv2.imshow('mask',mask)\n",
    "    cv2.imshow('res',res)\n",
    "    key = cv2.waitKey(1)\n",
    "    if key==27:\n",
    "        break\n",
    "cv2.destroyAllWindows()"
   ]
  },
  {
   "cell_type": "markdown",
   "id": "0c77ef81",
   "metadata": {},
   "source": [
    "# ThreshHolding in openCV"
   ]
  },
  {
   "cell_type": "code",
   "execution_count": 8,
   "id": "4a6e87f3",
   "metadata": {},
   "outputs": [],
   "source": [
    "#simple thresholding \n",
    "import cv2 as cv\n",
    "import numpy as np\n",
    "img = cv.imread('gradient.jfif',0)\n",
    "_, th1 = cv.threshold(img,127,255,cv.THRESH_BINARY)\n",
    "_, th2 = cv.threshold(img,127,255,cv.THRESH_BINARY_INV)\n",
    "cv.imshow('image',img)\n",
    "cv.imshow('th1',th1)\n",
    "cv.imshow('th2',th2)\n",
    "cv.waitKey(0)\n",
    "cv.destroyAllWindows()"
   ]
  },
  {
   "cell_type": "code",
   "execution_count": 13,
   "id": "2ff9d334",
   "metadata": {},
   "outputs": [],
   "source": [
    "#adoptive thresholding\n",
    "import cv2 as cv\n",
    "import numpy as np\n",
    "img = cv.imread(\"sudoku.png\",0)\n",
    "_, th1 = cv.threshold(img,127,255,cv.THRESH_BINARY)\n",
    "th2 = cv.adaptiveThreshold(img,255,cv.ADAPTIVE_THRESH_MEAN_C,cv.THRESH_BINARY,11,2)\n",
    "th3 = cv.adaptiveThreshold(img,255,cv.ADAPTIVE_THRESH_GAUSSIAN_C,cv.THRESH_BINARY,11,2)\n",
    "cv.imshow('image',img)\n",
    "cv.imshow('th1',th1)\n",
    "cv.imshow('th2',th2)\n",
    "cv.imshow('th3',th3)\n",
    "cv.waitKey(0)\n",
    "cv.destroyAllWindows()"
   ]
  },
  {
   "cell_type": "code",
   "execution_count": null,
   "id": "28bf1791",
   "metadata": {},
   "outputs": [],
   "source": []
  }
 ],
 "metadata": {
  "kernelspec": {
   "display_name": "Python 3",
   "language": "python",
   "name": "python3"
  },
  "language_info": {
   "codemirror_mode": {
    "name": "ipython",
    "version": 3
   },
   "file_extension": ".py",
   "mimetype": "text/x-python",
   "name": "python",
   "nbconvert_exporter": "python",
   "pygments_lexer": "ipython3",
   "version": "3.8.8"
  }
 },
 "nbformat": 4,
 "nbformat_minor": 5
}
