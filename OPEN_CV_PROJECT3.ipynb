{
 "cells": [
  {
   "cell_type": "markdown",
   "id": "7314c213",
   "metadata": {},
   "source": [
    "# Motion Detection in OpenCV"
   ]
  },
  {
   "cell_type": "code",
   "execution_count": 5,
   "id": "24241e4d",
   "metadata": {},
   "outputs": [],
   "source": [
    "import cv2\n",
    "import numpy as np\n",
    "\n",
    "cap = cv2.VideoCapture('vtest.avi')\n",
    "\n",
    "ret, frame1 = cap.read()\n",
    "ret, frame2 = cap.read()\n",
    "\n",
    "while cap.isOpened():\n",
    "    diff = cv2.absdiff(frame1, frame2)\n",
    "    gray = cv2.cvtColor(diff, cv2.COLOR_BGR2GRAY)\n",
    "    blur = cv2.GaussianBlur(gray, (5,5), 0)\n",
    "    _, thresh = cv2.threshold(blur, 20, 255, cv2.THRESH_BINARY)\n",
    "    dilated = cv2.dilate(thresh, None, iterations=3)\n",
    "    contours, _ = cv2.findContours(dilated, cv2.RETR_TREE, cv2.CHAIN_APPROX_SIMPLE)\n",
    "\n",
    "    for contour in contours:\n",
    "        (x, y, w, h) = cv2.boundingRect(contour)\n",
    "\n",
    "        if cv2.contourArea(contour) < 700:\n",
    "            continue\n",
    "        cv2.rectangle(frame1, (x, y), (x + w, y + h), (0, 255, 0), 2)\n",
    "        cv2.putText(frame1, \"STATUS : {}\".format('MOVEMENT'), (10, 20), cv2.FONT_HERSHEY_DUPLEX,\n",
    "                    1, (0, 0, 255), 2)\n",
    "    #cv2.drawContours(frame1, contours, -1, (0, 255, 0), 2)\n",
    "\n",
    "    cv2.imshow('feed', frame1)\n",
    "    frame1 = frame2\n",
    "    ret, frame2 = cap.read()\n",
    "\n",
    "    if cv2.waitKey(40) == 27:\n",
    "        break\n",
    "\n",
    "cv2.destroyAllWindows()\n",
    "cap.release()"
   ]
  },
  {
   "cell_type": "code",
   "execution_count": 1,
   "id": "67d652c1",
   "metadata": {},
   "outputs": [
    {
     "name": "stdout",
     "output_type": "stream",
     "text": [
      "1.2222222222222223\n",
      "1.0\n",
      "1.1224489795918366\n"
     ]
    }
   ],
   "source": [
    "# Detect the simple geometric Shape\n",
    "import numpy as np\n",
    "import cv2\n",
    "img = cv2.imread('images.png')\n",
    "imgGrey = cv2.cvtColor(img,cv2.COLOR_BGR2GRAY)\n",
    "_, thresh = cv2.threshold(imgGrey,240,255,cv2.THRESH_BINARY)\n",
    "contours,_ = cv2.findContours(thresh,cv2.RETR_TREE,cv2.CHAIN_APPROX_NONE)\n",
    "for contour in contours:\n",
    "    approx = cv2.approxPolyDP(contour,0.01*cv2.arcLength(contour,True),True)\n",
    "    cv2.drawContours(img,[approx],0,(0,0,0),5)\n",
    "    x = approx.ravel()[0]\n",
    "    y = approx.ravel()[1]\n",
    "    if len(approx) == 3:\n",
    "        cv2.putText(img,\"Triangle\",(x,y),cv2.FONT_HERSHEY_COMPLEX,0.5,(0,0,0))\n",
    "    elif len(approx) == 4:\n",
    "        x,y,w,h = cv2.boundingRect(approx)\n",
    "        aspectRatio = float(w)/h\n",
    "        print(aspectRatio)\n",
    "        if aspectRatio >=0.95 and aspectRatio <= 1.05:\n",
    "            cv2.putText(img,\"Square\",(x,y),cv2.FONT_HERSHEY_COMPLEX,0.5,(0,0,0))\n",
    "        else:\n",
    "            cv2.putText(img,\"Rectangle\",(x,y),cv2.FONT_HERSHEY_COMPLEX,0.5,(0,0,0))\n",
    "    elif len(approx) == 5:\n",
    "        cv2.putText(img,\"Pentagon\",(x,y),cv2.FONT_HERSHEY_COMPLEX,0.5,(0,0,0))\n",
    "    elif len(approx) == 10:\n",
    "        cv2.putText(img,\"Star\",(x,y),cv2.FONT_HERSHEY_COMPLEX,0.5,(0,0,0))\n",
    "    else:\n",
    "        cv2.putText(img,\"Circle\",(x,y),cv2.FONT_HERSHEY_COMPLEX,0.5,(0,0,0))\n",
    "        \n",
    "\n",
    "\n",
    "cv2.imshow(\"shapes\",img)\n",
    "cv2.waitKey(0)\n",
    "cv2.destroyAllWindows()"
   ]
  },
  {
   "cell_type": "markdown",
   "id": "5113196d",
   "metadata": {},
   "source": [
    "# Understanding image Histograms using OpenCV Python"
   ]
  },
  {
   "cell_type": "code",
   "execution_count": 12,
   "id": "96224896",
   "metadata": {},
   "outputs": [
    {
     "data": {
      "image/png": "[encoded data removed]",
      "text/plain": [
       "<Figure size 432x288 with 1 Axes>"
      ]
     },
     "metadata": {
      "needs_background": "light"
     },
     "output_type": "display_data"
    }
   ],
   "source": [
    "import numpy as np\n",
    "import cv2 as cv\n",
    "import matplotlib.pyplot as plt\n",
    "%matplotlib inline\n",
    "img = cv.imread(\"lena5.jpg\",0)\n",
    "#img = np.zeros((200,200),np.uint8)\n",
    "#cv.rectangle(img,(0,100),(200,200),(255),-1)\n",
    "#cv.rectangle(img,(0,50),(100,100),(127),-1)\n",
    "#b,g,r = cv.split(img)\n",
    "hist = cv.calcHist([img],[0],None,[256],[0,256])\n",
    "plt.plot(hist)\n",
    "#cv.imshow(\"img\",img)\n",
    "#cv.imshow(\"b\",img)\n",
    "#cv.imshow(\"g\",img)\n",
    "#cv.imshow(\"r\",img)\n",
    "#plt.hist(img.ravel(),256,[0,256])\n",
    "#plt.hist(b.ravel(),256,[0,256])\n",
    "#plt.hist(g.ravel(),256,[0,256])\n",
    "#plt.hist(r.ravel(),256,[0,256])\n",
    "plt.show()\n",
    "\n",
    "cv.waitKey(0)\n",
    "cv.destroyAllWindows()"
   ]
  },
  {
   "cell_type": "markdown",
   "id": "779a3b5b",
   "metadata": {},
   "source": [
    "# Template matching using OpenCV in Python"
   ]
  },
  {
   "cell_type": "code",
   "execution_count": 18,
   "id": "92fc4ed8",
   "metadata": {},
   "outputs": [
    {
     "name": "stdout",
     "output_type": "stream",
     "text": [
      "[[-3.4691058e-02 -3.8504876e-02 -4.1045379e-02 ...  8.1209680e-03\n",
      "   1.5789603e-03 -8.1231780e-03]\n",
      " [-4.4115640e-02 -4.6241678e-02 -4.8006508e-02 ...  3.8803015e-03\n",
      "  -2.1527084e-03 -1.0719364e-02]\n",
      " [-5.2004296e-02 -5.3097419e-02 -5.4222222e-02 ...  3.5300276e-05\n",
      "  -6.1791860e-03 -1.4380161e-02]\n",
      " ...\n",
      " [ 2.8440318e-01  2.7721754e-01  2.7098694e-01 ... -1.8522652e-02\n",
      "  -6.9844020e-03  5.3431615e-03]\n",
      " [ 2.8858310e-01  2.8193018e-01  2.7942580e-01 ... -3.5477888e-02\n",
      "  -2.7425934e-02 -1.8955929e-02]\n",
      " [ 2.9256245e-01  2.8475472e-01  2.7636874e-01 ... -5.0406363e-02\n",
      "  -4.4941079e-02 -3.9747603e-02]]\n",
      "(array([59, 59, 59], dtype=int64), array([200, 201, 202], dtype=int64))\n"
     ]
    }
   ],
   "source": [
    "import cv2\n",
    "import numpy as np\n",
    "img = cv2.imread(\"messi5.jpg\")\n",
    "grey_img = cv2.cvtColor(img,cv2.COLOR_BGR2GRAY)\n",
    "template = cv2.imread(\"messi_face.jpg\",0)\n",
    "w,h = template.shape[::-1]\n",
    "res = cv2.matchTemplate(grey_img,template,cv2.TM_CCOEFF_NORMED)\n",
    "print(res)\n",
    "threshold = 0.9;\n",
    "loc = np.where(res >= threshold)\n",
    "print(loc)\n",
    "for pt in zip(*loc[::-1]):\n",
    "    cv.rectangle(img,pt,(pt[0] + w, pt[1] + h),(0,0,255),2)\n",
    "cv2.imshow(\"image\",img)\n",
    "cv2.waitKey(0)\n",
    "cv2.destroyAllWindows()"
   ]
  },
  {
   "cell_type": "markdown",
   "id": "f0db3849",
   "metadata": {},
   "source": [
    "# Hough Line Transform Theory "
   ]
  },
  {
   "cell_type": "code",
   "execution_count": 19,
   "id": "65f89254",
   "metadata": {},
   "outputs": [
    {
     "name": "stdout",
     "output_type": "stream",
     "text": [
      "[[[170.          1.5707964]]]\n"
     ]
    }
   ],
   "source": [
    "import cv2 as cv\n",
    "import numpy as np\n",
    "\n",
    "img = cv.imread(cv.samples.findFile('road.jpg'))\n",
    "gray = cv.cvtColor(img, cv.COLOR_BGR2GRAY)\n",
    "edges = cv.Canny(gray, 50, 150, apertureSize=3)\n",
    "cv.imshow(\"Canny Edge\", edges)\n",
    "lines = cv.HoughLines(edges, 1, np.pi / 180, 200)\n",
    "print(lines)\n",
    "for line in lines:\n",
    "    rho, theta = line[0]\n",
    "    a = np.cos(theta)\n",
    "    b = np.sin(theta)\n",
    "    x0 = a * rho\n",
    "    y0 = b * rho\n",
    "    # x1 stores the rounded off value of (r * cos(theta) - 1000 * sin(theta))\n",
    "    x1 = int(x0 + 1000 * (-b))\n",
    "    # y1 stores the rounded off value of (r * sin(theta) + 1000 * cos(theta))\n",
    "    y1 = int(y0 + 1000 * a)\n",
    "    # x1 stores the rounded off value of (r * cos(theta) + 1000 * sin(theta))\n",
    "    x2 = int(x0 - 1000 * (-b))\n",
    "    # x1 stores the rounded off value of (r * sin(theta) - 1000 * cos(theta))\n",
    "    y2 = int(y0 - 1000 * a)\n",
    "    cv.line(img, (x1, y1), (x2, y2), (0, 0, 255), 2)\n",
    "\n",
    "cv.imshow(\"Image\", img)\n",
    "cv.waitKey(0)\n",
    "cv.destroyAllWindows()"
   ]
  },
  {
   "cell_type": "code",
   "execution_count": 20,
   "id": "7357436f",
   "metadata": {},
   "outputs": [
    {
     "name": "stdout",
     "output_type": "stream",
     "text": [
      "[[[ 3.6100000e+02  1.5707964e+00]]\n",
      "\n",
      " [[ 3.5700000e+02  1.5707964e+00]]\n",
      "\n",
      " [[ 3.0400000e+02  0.0000000e+00]]\n",
      "\n",
      " [[ 4.1200000e+02  1.5707964e+00]]\n",
      "\n",
      " [[ 2.1200000e+02  3.4906585e-02]]\n",
      "\n",
      " [[ 2.1600000e+02  3.4906585e-02]]\n",
      "\n",
      " [[ 2.1600000e+02  1.5707964e+00]]\n",
      "\n",
      " [[-3.4900000e+02  3.1241393e+00]]\n",
      "\n",
      " [[ 1.6900000e+02  1.5707964e+00]]\n",
      "\n",
      " [[ 2.5700000e+02  1.7453292e-02]]\n",
      "\n",
      " [[ 2.1200000e+02  1.5707964e+00]]\n",
      "\n",
      " [[-3.9300000e+02  3.1066861e+00]]\n",
      "\n",
      " [[-4.3600000e+02  3.0892327e+00]]\n",
      "\n",
      " [[ 2.6000000e+02  1.7453292e-02]]\n",
      "\n",
      " [[ 3.0200000e+02  0.0000000e+00]]\n",
      "\n",
      " [[ 8.3000000e+01  8.7266460e-02]]\n",
      "\n",
      " [[-3.4500000e+02  3.1241393e+00]]\n",
      "\n",
      " [[-4.9700000e+02  3.0717795e+00]]\n",
      "\n",
      " [[-4.8400000e+02  3.0717795e+00]]\n",
      "\n",
      " [[-3.9100000e+02  3.1066861e+00]]\n",
      "\n",
      " [[-4.3900000e+02  3.0892327e+00]]\n",
      "\n",
      " [[ 7.9000000e+01  8.7266460e-02]]\n",
      "\n",
      " [[ 1.7100000e+02  5.2359879e-02]]\n",
      "\n",
      " [[ 4.1000000e+02  1.5707964e+00]]\n",
      "\n",
      " [[-4.9100000e+02  3.0717795e+00]]\n",
      "\n",
      " [[-5.0300000e+02  3.0717795e+00]]\n",
      "\n",
      " [[-5.0900000e+02  3.0717795e+00]]\n",
      "\n",
      " [[ 3.1100000e+02  1.5707964e+00]]\n",
      "\n",
      " [[ 3.0900000e+02  1.5707964e+00]]]\n"
     ]
    }
   ],
   "source": [
    "import cv2 as cv\n",
    "import numpy as np\n",
    "\n",
    "img = cv.imread(cv.samples.findFile('sudoku.png'))\n",
    "gray = cv.cvtColor(img, cv.COLOR_BGR2GRAY)\n",
    "edges = cv.Canny(gray, 50, 150, apertureSize=3)\n",
    "cv.imshow(\"Canny Edge\", edges)\n",
    "lines = cv.HoughLines(edges, 1, np.pi / 180, 200)\n",
    "print(lines)\n",
    "for line in lines:\n",
    "    rho, theta = line[0]\n",
    "    a = np.cos(theta)\n",
    "    b = np.sin(theta)\n",
    "    x0 = a * rho\n",
    "    y0 = b * rho\n",
    "    # x1 stores the rounded off value of (r * cos(theta) - 1000 * sin(theta))\n",
    "    x1 = int(x0 + 1000 * (-b))\n",
    "    # y1 stores the rounded off value of (r * sin(theta) + 1000 * cos(theta))\n",
    "    y1 = int(y0 + 1000 * a)\n",
    "    # x1 stores the rounded off value of (r * cos(theta) + 1000 * sin(theta))\n",
    "    x2 = int(x0 - 1000 * (-b))\n",
    "    # x1 stores the rounded off value of (r * sin(theta) - 1000 * cos(theta))\n",
    "    y2 = int(y0 - 1000 * a)\n",
    "    cv.line(img, (x1, y1), (x2, y2), (0, 0, 255), 2)\n",
    "\n",
    "cv.imshow(\"Image\", img)\n",
    "cv.waitKey(0)\n",
    "cv.destroyAllWindows()"
   ]
  },
  {
   "cell_type": "code",
   "execution_count": null,
   "id": "4bb12208",
   "metadata": {},
   "outputs": [],
   "source": []
  }
 ],
 "metadata": {
  "kernelspec": {
   "display_name": "Python 3",
   "language": "python",
   "name": "python3"
  },
  "language_info": {
   "codemirror_mode": {
    "name": "ipython",
    "version": 3
   },
   "file_extension": ".py",
   "mimetype": "text/x-python",
   "name": "python",
   "nbconvert_exporter": "python",
   "pygments_lexer": "ipython3",
   "version": "3.8.8"
  }
 },
 "nbformat": 4,
 "nbformat_minor": 5
}
